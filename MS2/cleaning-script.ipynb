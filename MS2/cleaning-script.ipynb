{
 "cells": [
  {
   "cell_type": "code",
   "execution_count": 43,
   "metadata": {},
   "outputs": [],
   "source": [
    "import numpy as np\n",
    "import pandas as pd\n",
    "import matplotlib.pyplot as plt\n",
    "from datetime import timedelta\n",
    "\n",
    "pd.set_option('display.max_rows', None)"
   ]
  },
  {
   "cell_type": "code",
   "execution_count": 44,
   "metadata": {},
   "outputs": [],
   "source": [
    "df = pd.read_csv('Flight_delay.csv')"
   ]
  },
  {
   "cell_type": "code",
   "execution_count": null,
   "metadata": {},
   "outputs": [],
   "source": [
    "df.rename(columns={'CRSArrTime': 'ScheduledArrTime'}, inplace=True)"
   ]
  },
  {
   "cell_type": "code",
   "execution_count": null,
   "metadata": {},
   "outputs": [],
   "source": [
    "def create_scheduled_dep_time_col():\n",
    "    # Convert 'DepTime' to string type\n",
    "    df['DepTime'] = df['DepTime'].astype(str)\n",
    "\n",
    "    # Pad 'DepTime' with leading zeros to ensure it has 4 digits\n",
    "    df['DepTime'] = df['DepTime'].str.zfill(4)\n",
    "\n",
    "    # Replace '2400' with '0000' in 'DepTime'\n",
    "    df['DepTime'] = df['DepTime'].replace('2400', '0000')\n",
    "\n",
    "    # Convert 'DepTime' column to datetime format\n",
    "    df['DepTime'] = pd.to_datetime(df['DepTime'], format='%H%M')\n",
    "\n",
    "    # Subtract 'DepDelay' from 'DepTime'\n",
    "    df['ScheduledDepTime'] = df.apply(lambda row: row['DepTime'] - timedelta(minutes=row['DepDelay']), axis=1)\n",
    "\n",
    "    # Convert 'DepTime' and 'ScheduledDepTime' back to the original format\n",
    "    df['DepTime'] = df['DepTime'].dt.strftime('%H%M')\n",
    "    df['ScheduledDepTime'] = df['ScheduledDepTime'].dt.strftime('%H%M')"
   ]
  },
  {
   "cell_type": "code",
   "execution_count": null,
   "metadata": {},
   "outputs": [],
   "source": [
    "create_scheduled_dep_time_col()"
   ]
  },
  {
   "cell_type": "code",
   "execution_count": null,
   "metadata": {},
   "outputs": [],
   "source": [
    "def upsert_scheduled_elapsed_time():\n",
    "    df.drop(columns='CRSElapsedTime', inplace=True)\n",
    "    \n",
    "    # Convert columns to string type\n",
    "    df['ScheduledArrTime'] = df['ScheduledArrTime'].astype(str)\n",
    "    df['ScheduledDepTime'] = df['ScheduledDepTime'].astype(str)\n",
    "\n",
    "    # Pad columns with leading zeros to ensure it has 4 digits\n",
    "    df['ScheduledArrTime'] = df['ScheduledArrTime'].str.zfill(4)\n",
    "    df['ScheduledDepTime'] = df['ScheduledDepTime'].str.zfill(4)\n",
    "    \n",
    "    # Replace '2400' with '0000' in columns\n",
    "    df['ScheduledArrTime'] = df['ScheduledArrTime'].replace('2400', '0000')\n",
    "    df['ScheduledDepTime'] = df['ScheduledDepTime'].replace('2400', '0000')\n",
    "    \n",
    "    # Convert columns to datetime format\n",
    "    df['ScheduledArrTime'] = pd.to_datetime(df['ScheduledArrTime'], format='%H%M')\n",
    "    df['ScheduledDepTime'] = pd.to_datetime(df['ScheduledDepTime'], format='%H%M')\n",
    "    \n",
    "    # Calculate the scheduled elapsed time and create a new column 'ScheduledElapsedTime'\n",
    "    df['ScheduledElapsedTime'] = ((df['ScheduledArrTime'] - df['ScheduledDepTime']).dt.total_seconds() / 60).astype(int)\n",
    "    \n",
    "    # Convert 'ScheduledArrTime' and 'ScheduledDepTime' back to the original format\n",
    "    df['ScheduledArrTime'] = df['ScheduledArrTime'].dt.strftime('%H%M')\n",
    "    df['ScheduledDepTime'] = df['ScheduledDepTime'].dt.strftime('%H%M')"
   ]
  },
  {
   "cell_type": "code",
   "execution_count": null,
   "metadata": {},
   "outputs": [],
   "source": [
    "upsert_scheduled_elapsed_time()"
   ]
  }
 ],
 "metadata": {
  "kernelspec": {
   "display_name": "Python 3",
   "language": "python",
   "name": "python3"
  },
  "language_info": {
   "codemirror_mode": {
    "name": "ipython",
    "version": 3
   },
   "file_extension": ".py",
   "mimetype": "text/x-python",
   "name": "python",
   "nbconvert_exporter": "python",
   "pygments_lexer": "ipython3",
   "version": "3.12.0"
  }
 },
 "nbformat": 4,
 "nbformat_minor": 2
}
