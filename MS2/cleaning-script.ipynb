{
 "cells": [
  {
   "cell_type": "markdown",
   "metadata": {},
   "source": [
    "## Cleaning The Dataset\n"
   ]
  },
  {
   "cell_type": "markdown",
   "metadata": {},
   "source": [
    "Include all the necessary imports\n"
   ]
  },
  {
   "cell_type": "code",
   "execution_count": 119,
   "metadata": {},
   "outputs": [],
   "source": [
    "import numpy as np\n",
    "import pandas as pd\n",
    "import matplotlib.pyplot as plt\n",
    "import seaborn as sns\n",
    "from datetime import timedelta\n",
    "\n",
    "%matplotlib inline\n",
    "\n",
    "pd.set_option(\"display.max_rows\", None)\n",
    "pd.set_option(\"display.max_columns\", None)"
   ]
  },
  {
   "cell_type": "markdown",
   "metadata": {},
   "source": [
    "Read the csv into a pandas dataframe\n"
   ]
  },
  {
   "cell_type": "code",
   "execution_count": 120,
   "metadata": {},
   "outputs": [],
   "source": [
    "df = pd.read_csv(\"Flight_delay.csv\")"
   ]
  },
  {
   "cell_type": "markdown",
   "metadata": {},
   "source": [
    "Drop the unecessary columns\n"
   ]
  },
  {
   "cell_type": "code",
   "execution_count": 121,
   "metadata": {},
   "outputs": [],
   "source": [
    "df.drop(\n",
    "    columns=[\n",
    "        \"ArrTime\",\n",
    "        \"Airline\",\n",
    "        \"FlightNum\",\n",
    "        \"ActualElapsedTime\",\n",
    "        \"AirTime\",\n",
    "        \"ArrDelay\",\n",
    "        \"Org_Airport\",\n",
    "        \"Dest_Airport\",\n",
    "        \"TaxiIn\",\n",
    "        \"TaxiOut\",\n",
    "        \"Cancelled\",\n",
    "        \"CancellationCode\",\n",
    "        \"Diverted\",\n",
    "        \"CarrierDelay\",\n",
    "        \"WeatherDelay\",\n",
    "        \"NASDelay\",\n",
    "        \"LateAircraftDelay\",\n",
    "        \"SecurityDelay\",\n",
    "    ],\n",
    "    inplace=True,\n",
    ")"
   ]
  },
  {
   "cell_type": "markdown",
   "metadata": {},
   "source": [
    "Check for null values\n"
   ]
  },
  {
   "cell_type": "code",
   "execution_count": 122,
   "metadata": {},
   "outputs": [
    {
     "data": {
      "text/plain": [
       "False"
      ]
     },
     "execution_count": 122,
     "metadata": {},
     "output_type": "execute_result"
    }
   ],
   "source": [
    "np.any(np.array(df.isnull()))"
   ]
  },
  {
   "cell_type": "markdown",
   "metadata": {},
   "source": [
    "### Define functions for Data Processing\n"
   ]
  },
  {
   "cell_type": "markdown",
   "metadata": {},
   "source": [
    "Define a function to create a column in the dataframe called 'ScheduledDepTime', which has the scheduled departure time of each flight in the dataset.\n",
    "\n",
    "This computed by subtracting the departure delay (in minutes) from the actual departure time.\n"
   ]
  },
  {
   "cell_type": "code",
   "execution_count": 123,
   "metadata": {},
   "outputs": [],
   "source": [
    "def create_scheduled_dep_time_col():\n",
    "    # Convert 'DepTime' to string type\n",
    "    df[\"DepTime\"] = df[\"DepTime\"].astype(str)\n",
    "\n",
    "    # Pad 'DepTime' with leading zeros to ensure it has 4 digits\n",
    "    df[\"DepTime\"] = df[\"DepTime\"].str.zfill(4)\n",
    "\n",
    "    # Replace '2400' with '0000' in 'DepTime'\n",
    "    df[\"DepTime\"] = df[\"DepTime\"].replace(\"2400\", \"0000\")\n",
    "\n",
    "    # Convert 'DepTime' column to datetime format\n",
    "    df[\"DepTime\"] = pd.to_datetime(df[\"DepTime\"], format=\"%H%M\")\n",
    "\n",
    "    # Subtract 'DepDelay' from 'DepTime'\n",
    "    df[\"ScheduledDepTime\"] = df.apply(\n",
    "        lambda row: row[\"DepTime\"] - timedelta(minutes=row[\"DepDelay\"]), axis=1\n",
    "    )\n",
    "\n",
    "    # Convert 'ScheduledDepTime' back to the original format\n",
    "    df[\"ScheduledDepTime\"] = df[\"ScheduledDepTime\"].dt.strftime(\"%H%M\")\n",
    "\n",
    "    # Drop the 'DepTime' column as it is not needed\n",
    "    df.drop(columns=\"DepTime\", inplace=True)"
   ]
  },
  {
   "cell_type": "markdown",
   "metadata": {},
   "source": [
    "Define a function to recompute the scheduled elpased time of each flight.\n",
    "\n",
    "This is computed by subtracting the scheduled departure time from the scheduled arrival time.\n"
   ]
  },
  {
   "cell_type": "code",
   "execution_count": 124,
   "metadata": {},
   "outputs": [],
   "source": [
    "def upsert_scheduled_elapsed_time():\n",
    "    df.drop(columns=\"CRSElapsedTime\", inplace=True)\n",
    "\n",
    "    # Rename the 'CRSArrTime' column to 'ScheduledArrTime'\n",
    "    df.rename(columns={\"CRSArrTime\": \"ScheduledArrTime\"}, inplace=True)\n",
    "\n",
    "    # Convert columns to string type\n",
    "    df[\"ScheduledArrTime\"] = df[\"ScheduledArrTime\"].astype(str)\n",
    "    df[\"ScheduledDepTime\"] = df[\"ScheduledDepTime\"].astype(str)\n",
    "\n",
    "    # Pad columns with leading zeros to ensure it has 4 digits\n",
    "    df[\"ScheduledArrTime\"] = df[\"ScheduledArrTime\"].str.zfill(4)\n",
    "    df[\"ScheduledDepTime\"] = df[\"ScheduledDepTime\"].str.zfill(4)\n",
    "\n",
    "    # Replace '2400' with '0000' in columns\n",
    "    df[\"ScheduledArrTime\"] = df[\"ScheduledArrTime\"].replace(\"2400\", \"0000\")\n",
    "    df[\"ScheduledDepTime\"] = df[\"ScheduledDepTime\"].replace(\"2400\", \"0000\")\n",
    "\n",
    "    # Convert columns to datetime format\n",
    "    df[\"ScheduledArrTime\"] = pd.to_datetime(df[\"ScheduledArrTime\"], format=\"%H%M\")\n",
    "    df[\"ScheduledDepTime\"] = pd.to_datetime(df[\"ScheduledDepTime\"], format=\"%H%M\")\n",
    "\n",
    "    # Calculate the scheduled elapsed time and create a new column 'ScheduledElapsedTime'\n",
    "    df[\"ScheduledElapsedTime\"] = (\n",
    "        (\n",
    "            df[\"ScheduledArrTime\"] - df[\"ScheduledDepTime\"] + pd.Timedelta(days=1)\n",
    "        ).dt.total_seconds()\n",
    "        / 60\n",
    "    ).astype(int)\n",
    "\n",
    "    # Use modulo operation to limit the elapsed time within 24 hours\n",
    "    df[\"ScheduledElapsedTime\"] = df[\"ScheduledElapsedTime\"] % (24 * 60)\n",
    "\n",
    "    # Convert 'ScheduledArrTime' and 'ScheduledDepTime' back to the original format\n",
    "    df[\"ScheduledArrTime\"] = df[\"ScheduledArrTime\"].dt.strftime(\"%H%M\")\n",
    "    df[\"ScheduledDepTime\"] = df[\"ScheduledDepTime\"].dt.strftime(\"%H%M\")\n",
    "\n",
    "    # Convert 'ScheduledArrTime' and 'ScheduledDepTime' to type int\n",
    "    df[\"ScheduledArrTime\"] = df[\"ScheduledArrTime\"].astype(int)\n",
    "    df[\"ScheduledDepTime\"] = df[\"ScheduledDepTime\"].astype(int)"
   ]
  },
  {
   "cell_type": "markdown",
   "metadata": {},
   "source": [
    "Define a function to expand the 'Date' column to a 'Day' and 'Month' columns.\n"
   ]
  },
  {
   "cell_type": "code",
   "execution_count": 125,
   "metadata": {},
   "outputs": [],
   "source": [
    "def expand_date_col():\n",
    "    # Convert the date column to datetime\n",
    "    df[\"Date\"] = pd.to_datetime(df[\"Date\"], format=\"%d-%m-%Y\")\n",
    "\n",
    "    # Create the Day, Month and Year columns\n",
    "    df[\"Day\"] = df[\"Date\"].dt.day\n",
    "    df[\"Month\"] = df[\"Date\"].dt.month\n",
    "\n",
    "    # Drop the 'Date' column\n",
    "    df.drop(columns=\"Date\", inplace=True)"
   ]
  },
  {
   "cell_type": "markdown",
   "metadata": {},
   "source": [
    "### Call the functions\n"
   ]
  },
  {
   "cell_type": "code",
   "execution_count": 126,
   "metadata": {},
   "outputs": [],
   "source": [
    "create_scheduled_dep_time_col()"
   ]
  },
  {
   "cell_type": "code",
   "execution_count": 127,
   "metadata": {},
   "outputs": [],
   "source": [
    "upsert_scheduled_elapsed_time()"
   ]
  },
  {
   "cell_type": "code",
   "execution_count": 128,
   "metadata": {},
   "outputs": [],
   "source": [
    "expand_date_col()"
   ]
  },
  {
   "cell_type": "markdown",
   "metadata": {},
   "source": [
    "### Data Visualization\n"
   ]
  },
  {
   "cell_type": "markdown",
   "metadata": {},
   "source": [
    "Plot the distribution of each column.\n"
   ]
  },
  {
   "cell_type": "code",
   "execution_count": null,
   "metadata": {},
   "outputs": [],
   "source": [
    "for column in df.columns:\n",
    "    sns.displot(data=df, x=column, bins=50)"
   ]
  },
  {
   "cell_type": "markdown",
   "metadata": {},
   "source": [
    "Make scatter plots for each column against the 'DepDelay' column.\n"
   ]
  },
  {
   "cell_type": "code",
   "execution_count": null,
   "metadata": {},
   "outputs": [],
   "source": [
    "y_column = \"DepDelay\"\n",
    "x_columns = [col for col in df.columns if col != y_column]\n",
    "\n",
    "# Increase the width of the figure\n",
    "fig, axes = plt.subplots(nrows=len(x_columns), ncols=1, figsize=(5, len(x_columns) * 5))\n",
    "\n",
    "for i in range(0, len(x_columns)):\n",
    "    axes[i].scatter(df[x_columns[i]], df[y_column])\n",
    "    axes[i].set_title(f\"{y_column} vs {x_columns[i]}\")\n",
    "\n",
    "plt.tight_layout()"
   ]
  },
  {
   "cell_type": "markdown",
   "metadata": {},
   "source": [
    "Show the head of the updated dataframe\n"
   ]
  },
  {
   "cell_type": "code",
   "execution_count": 131,
   "metadata": {},
   "outputs": [
    {
     "data": {
      "text/html": [
       "<div>\n",
       "<style scoped>\n",
       "    .dataframe tbody tr th:only-of-type {\n",
       "        vertical-align: middle;\n",
       "    }\n",
       "\n",
       "    .dataframe tbody tr th {\n",
       "        vertical-align: top;\n",
       "    }\n",
       "\n",
       "    .dataframe thead th {\n",
       "        text-align: right;\n",
       "    }\n",
       "</style>\n",
       "<table border=\"1\" class=\"dataframe\">\n",
       "  <thead>\n",
       "    <tr style=\"text-align: right;\">\n",
       "      <th></th>\n",
       "      <th>DayOfWeek</th>\n",
       "      <th>ScheduledArrTime</th>\n",
       "      <th>UniqueCarrier</th>\n",
       "      <th>TailNum</th>\n",
       "      <th>DepDelay</th>\n",
       "      <th>Origin</th>\n",
       "      <th>Dest</th>\n",
       "      <th>Distance</th>\n",
       "      <th>ScheduledDepTime</th>\n",
       "      <th>ScheduledElapsedTime</th>\n",
       "      <th>Day</th>\n",
       "      <th>Month</th>\n",
       "    </tr>\n",
       "  </thead>\n",
       "  <tbody>\n",
       "    <tr>\n",
       "      <th>0</th>\n",
       "      <td>4</td>\n",
       "      <td>1925</td>\n",
       "      <td>WN</td>\n",
       "      <td>N464WN</td>\n",
       "      <td>34</td>\n",
       "      <td>IND</td>\n",
       "      <td>BWI</td>\n",
       "      <td>515</td>\n",
       "      <td>1755</td>\n",
       "      <td>90</td>\n",
       "      <td>3</td>\n",
       "      <td>1</td>\n",
       "    </tr>\n",
       "    <tr>\n",
       "      <th>1</th>\n",
       "      <td>4</td>\n",
       "      <td>1940</td>\n",
       "      <td>WN</td>\n",
       "      <td>N763SW</td>\n",
       "      <td>67</td>\n",
       "      <td>IND</td>\n",
       "      <td>LAS</td>\n",
       "      <td>1591</td>\n",
       "      <td>1830</td>\n",
       "      <td>70</td>\n",
       "      <td>3</td>\n",
       "      <td>1</td>\n",
       "    </tr>\n",
       "    <tr>\n",
       "      <th>2</th>\n",
       "      <td>4</td>\n",
       "      <td>1725</td>\n",
       "      <td>WN</td>\n",
       "      <td>N334SW</td>\n",
       "      <td>94</td>\n",
       "      <td>IND</td>\n",
       "      <td>MCO</td>\n",
       "      <td>828</td>\n",
       "      <td>1510</td>\n",
       "      <td>135</td>\n",
       "      <td>3</td>\n",
       "      <td>1</td>\n",
       "    </tr>\n",
       "    <tr>\n",
       "      <th>3</th>\n",
       "      <td>4</td>\n",
       "      <td>1625</td>\n",
       "      <td>WN</td>\n",
       "      <td>N286WN</td>\n",
       "      <td>27</td>\n",
       "      <td>IND</td>\n",
       "      <td>PHX</td>\n",
       "      <td>1489</td>\n",
       "      <td>1425</td>\n",
       "      <td>120</td>\n",
       "      <td>3</td>\n",
       "      <td>1</td>\n",
       "    </tr>\n",
       "    <tr>\n",
       "      <th>4</th>\n",
       "      <td>4</td>\n",
       "      <td>1510</td>\n",
       "      <td>WN</td>\n",
       "      <td>N674AA</td>\n",
       "      <td>28</td>\n",
       "      <td>IND</td>\n",
       "      <td>TPA</td>\n",
       "      <td>838</td>\n",
       "      <td>1255</td>\n",
       "      <td>135</td>\n",
       "      <td>3</td>\n",
       "      <td>1</td>\n",
       "    </tr>\n",
       "  </tbody>\n",
       "</table>\n",
       "</div>"
      ],
      "text/plain": [
       "   DayOfWeek  ScheduledArrTime UniqueCarrier TailNum  DepDelay Origin Dest  \\\n",
       "0          4              1925            WN  N464WN        34    IND  BWI   \n",
       "1          4              1940            WN  N763SW        67    IND  LAS   \n",
       "2          4              1725            WN  N334SW        94    IND  MCO   \n",
       "3          4              1625            WN  N286WN        27    IND  PHX   \n",
       "4          4              1510            WN  N674AA        28    IND  TPA   \n",
       "\n",
       "   Distance  ScheduledDepTime  ScheduledElapsedTime  Day  Month  \n",
       "0       515              1755                    90    3      1  \n",
       "1      1591              1830                    70    3      1  \n",
       "2       828              1510                   135    3      1  \n",
       "3      1489              1425                   120    3      1  \n",
       "4       838              1255                   135    3      1  "
      ]
     },
     "execution_count": 131,
     "metadata": {},
     "output_type": "execute_result"
    }
   ],
   "source": [
    "df.head()"
   ]
  }
 ],
 "metadata": {
  "kernelspec": {
   "display_name": "Python 3",
   "language": "python",
   "name": "python3"
  },
  "language_info": {
   "codemirror_mode": {
    "name": "ipython",
    "version": 3
   },
   "file_extension": ".py",
   "mimetype": "text/x-python",
   "name": "python",
   "nbconvert_exporter": "python",
   "pygments_lexer": "ipython3",
   "version": "3.12.0"
  }
 },
 "nbformat": 4,
 "nbformat_minor": 2
}
