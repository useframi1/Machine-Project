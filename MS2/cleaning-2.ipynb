{
 "cells": [
  {
   "cell_type": "code",
   "execution_count": 1,
   "id": "initial_id",
   "metadata": {
    "collapsed": true,
    "ExecuteTime": {
     "end_time": "2024-03-09T19:47:26.900801Z",
     "start_time": "2024-03-09T19:46:40.909263Z"
    }
   },
   "outputs": [],
   "source": [
    "import pandas as pd\n",
    "from sklearn.preprocessing import OneHotEncoder"
   ]
  },
  {
   "cell_type": "code",
   "execution_count": 4,
   "outputs": [
    {
     "data": {
      "text/plain": "        DayOfWeek  ScheduledArrTime UniqueCarrier TailNum  DepDelay Origin  \\\n0               4              1925            WN  N464WN        34    IND   \n1               4              1940            WN  N763SW        67    IND   \n2               4              1725            WN  N334SW        94    IND   \n3               4              1625            WN  N286WN        27    IND   \n4               4              1510            WN  N674AA        28    IND   \n...           ...               ...           ...     ...       ...    ...   \n481890          5              1915            AA  N510AA        34    DFW   \n481891          6              1915            AA  N559AA        41    DFW   \n481892          2              1915            AA  N505AA        42    DFW   \n481893          7              1915            AA  N421AA        32    DFW   \n481894          1              1915            AA  N487AA        33    DFW   \n\n       Dest  Distance  ScheduledDepTime  ScheduledElapsedTime  ...  \\\n0       BWI       515              1755                    90  ...   \n1       LAS      1591              1830                    70  ...   \n2       MCO       828              1510                   135  ...   \n3       PHX      1489              1425                   120  ...   \n4       TPA       838              1255                   135  ...   \n...     ...       ...               ...                   ...  ...   \n481890  MCO       984              1535                   220  ...   \n481891  MCO       984              1535                   220  ...   \n481892  MCO       984              1535                   220  ...   \n481893  MCO       984              1535                   220  ...   \n481894  MCO       984              1535                   220  ...   \n\n        UniqueCarrier_B6  UniqueCarrier_DL  UniqueCarrier_EV  \\\n0                    0.0               0.0               0.0   \n1                    0.0               0.0               0.0   \n2                    0.0               0.0               0.0   \n3                    0.0               0.0               0.0   \n4                    0.0               0.0               0.0   \n...                  ...               ...               ...   \n481890               0.0               0.0               0.0   \n481891               0.0               0.0               0.0   \n481892               0.0               0.0               0.0   \n481893               0.0               0.0               0.0   \n481894               0.0               0.0               0.0   \n\n        UniqueCarrier_F9  UniqueCarrier_HA  UniqueCarrier_MQ  \\\n0                    0.0               0.0               0.0   \n1                    0.0               0.0               0.0   \n2                    0.0               0.0               0.0   \n3                    0.0               0.0               0.0   \n4                    0.0               0.0               0.0   \n...                  ...               ...               ...   \n481890               0.0               0.0               0.0   \n481891               0.0               0.0               0.0   \n481892               0.0               0.0               0.0   \n481893               0.0               0.0               0.0   \n481894               0.0               0.0               0.0   \n\n        UniqueCarrier_OO  UniqueCarrier_UA  UniqueCarrier_US  UniqueCarrier_WN  \n0                    0.0               0.0               0.0               1.0  \n1                    0.0               0.0               0.0               1.0  \n2                    0.0               0.0               0.0               1.0  \n3                    0.0               0.0               0.0               1.0  \n4                    0.0               0.0               0.0               1.0  \n...                  ...               ...               ...               ...  \n481890               0.0               0.0               0.0               0.0  \n481891               0.0               0.0               0.0               0.0  \n481892               0.0               0.0               0.0               0.0  \n481893               0.0               0.0               0.0               0.0  \n481894               0.0               0.0               0.0               0.0  \n\n[481895 rows x 36 columns]",
      "text/html": "<div>\n<style scoped>\n    .dataframe tbody tr th:only-of-type {\n        vertical-align: middle;\n    }\n\n    .dataframe tbody tr th {\n        vertical-align: top;\n    }\n\n    .dataframe thead th {\n        text-align: right;\n    }\n</style>\n<table border=\"1\" class=\"dataframe\">\n  <thead>\n    <tr style=\"text-align: right;\">\n      <th></th>\n      <th>DayOfWeek</th>\n      <th>ScheduledArrTime</th>\n      <th>UniqueCarrier</th>\n      <th>TailNum</th>\n      <th>DepDelay</th>\n      <th>Origin</th>\n      <th>Dest</th>\n      <th>Distance</th>\n      <th>ScheduledDepTime</th>\n      <th>ScheduledElapsedTime</th>\n      <th>...</th>\n      <th>UniqueCarrier_B6</th>\n      <th>UniqueCarrier_DL</th>\n      <th>UniqueCarrier_EV</th>\n      <th>UniqueCarrier_F9</th>\n      <th>UniqueCarrier_HA</th>\n      <th>UniqueCarrier_MQ</th>\n      <th>UniqueCarrier_OO</th>\n      <th>UniqueCarrier_UA</th>\n      <th>UniqueCarrier_US</th>\n      <th>UniqueCarrier_WN</th>\n    </tr>\n  </thead>\n  <tbody>\n    <tr>\n      <th>0</th>\n      <td>4</td>\n      <td>1925</td>\n      <td>WN</td>\n      <td>N464WN</td>\n      <td>34</td>\n      <td>IND</td>\n      <td>BWI</td>\n      <td>515</td>\n      <td>1755</td>\n      <td>90</td>\n      <td>...</td>\n      <td>0.0</td>\n      <td>0.0</td>\n      <td>0.0</td>\n      <td>0.0</td>\n      <td>0.0</td>\n      <td>0.0</td>\n      <td>0.0</td>\n      <td>0.0</td>\n      <td>0.0</td>\n      <td>1.0</td>\n    </tr>\n    <tr>\n      <th>1</th>\n      <td>4</td>\n      <td>1940</td>\n      <td>WN</td>\n      <td>N763SW</td>\n      <td>67</td>\n      <td>IND</td>\n      <td>LAS</td>\n      <td>1591</td>\n      <td>1830</td>\n      <td>70</td>\n      <td>...</td>\n      <td>0.0</td>\n      <td>0.0</td>\n      <td>0.0</td>\n      <td>0.0</td>\n      <td>0.0</td>\n      <td>0.0</td>\n      <td>0.0</td>\n      <td>0.0</td>\n      <td>0.0</td>\n      <td>1.0</td>\n    </tr>\n    <tr>\n      <th>2</th>\n      <td>4</td>\n      <td>1725</td>\n      <td>WN</td>\n      <td>N334SW</td>\n      <td>94</td>\n      <td>IND</td>\n      <td>MCO</td>\n      <td>828</td>\n      <td>1510</td>\n      <td>135</td>\n      <td>...</td>\n      <td>0.0</td>\n      <td>0.0</td>\n      <td>0.0</td>\n      <td>0.0</td>\n      <td>0.0</td>\n      <td>0.0</td>\n      <td>0.0</td>\n      <td>0.0</td>\n      <td>0.0</td>\n      <td>1.0</td>\n    </tr>\n    <tr>\n      <th>3</th>\n      <td>4</td>\n      <td>1625</td>\n      <td>WN</td>\n      <td>N286WN</td>\n      <td>27</td>\n      <td>IND</td>\n      <td>PHX</td>\n      <td>1489</td>\n      <td>1425</td>\n      <td>120</td>\n      <td>...</td>\n      <td>0.0</td>\n      <td>0.0</td>\n      <td>0.0</td>\n      <td>0.0</td>\n      <td>0.0</td>\n      <td>0.0</td>\n      <td>0.0</td>\n      <td>0.0</td>\n      <td>0.0</td>\n      <td>1.0</td>\n    </tr>\n    <tr>\n      <th>4</th>\n      <td>4</td>\n      <td>1510</td>\n      <td>WN</td>\n      <td>N674AA</td>\n      <td>28</td>\n      <td>IND</td>\n      <td>TPA</td>\n      <td>838</td>\n      <td>1255</td>\n      <td>135</td>\n      <td>...</td>\n      <td>0.0</td>\n      <td>0.0</td>\n      <td>0.0</td>\n      <td>0.0</td>\n      <td>0.0</td>\n      <td>0.0</td>\n      <td>0.0</td>\n      <td>0.0</td>\n      <td>0.0</td>\n      <td>1.0</td>\n    </tr>\n    <tr>\n      <th>...</th>\n      <td>...</td>\n      <td>...</td>\n      <td>...</td>\n      <td>...</td>\n      <td>...</td>\n      <td>...</td>\n      <td>...</td>\n      <td>...</td>\n      <td>...</td>\n      <td>...</td>\n      <td>...</td>\n      <td>...</td>\n      <td>...</td>\n      <td>...</td>\n      <td>...</td>\n      <td>...</td>\n      <td>...</td>\n      <td>...</td>\n      <td>...</td>\n      <td>...</td>\n      <td>...</td>\n    </tr>\n    <tr>\n      <th>481890</th>\n      <td>5</td>\n      <td>1915</td>\n      <td>AA</td>\n      <td>N510AA</td>\n      <td>34</td>\n      <td>DFW</td>\n      <td>MCO</td>\n      <td>984</td>\n      <td>1535</td>\n      <td>220</td>\n      <td>...</td>\n      <td>0.0</td>\n      <td>0.0</td>\n      <td>0.0</td>\n      <td>0.0</td>\n      <td>0.0</td>\n      <td>0.0</td>\n      <td>0.0</td>\n      <td>0.0</td>\n      <td>0.0</td>\n      <td>0.0</td>\n    </tr>\n    <tr>\n      <th>481891</th>\n      <td>6</td>\n      <td>1915</td>\n      <td>AA</td>\n      <td>N559AA</td>\n      <td>41</td>\n      <td>DFW</td>\n      <td>MCO</td>\n      <td>984</td>\n      <td>1535</td>\n      <td>220</td>\n      <td>...</td>\n      <td>0.0</td>\n      <td>0.0</td>\n      <td>0.0</td>\n      <td>0.0</td>\n      <td>0.0</td>\n      <td>0.0</td>\n      <td>0.0</td>\n      <td>0.0</td>\n      <td>0.0</td>\n      <td>0.0</td>\n    </tr>\n    <tr>\n      <th>481892</th>\n      <td>2</td>\n      <td>1915</td>\n      <td>AA</td>\n      <td>N505AA</td>\n      <td>42</td>\n      <td>DFW</td>\n      <td>MCO</td>\n      <td>984</td>\n      <td>1535</td>\n      <td>220</td>\n      <td>...</td>\n      <td>0.0</td>\n      <td>0.0</td>\n      <td>0.0</td>\n      <td>0.0</td>\n      <td>0.0</td>\n      <td>0.0</td>\n      <td>0.0</td>\n      <td>0.0</td>\n      <td>0.0</td>\n      <td>0.0</td>\n    </tr>\n    <tr>\n      <th>481893</th>\n      <td>7</td>\n      <td>1915</td>\n      <td>AA</td>\n      <td>N421AA</td>\n      <td>32</td>\n      <td>DFW</td>\n      <td>MCO</td>\n      <td>984</td>\n      <td>1535</td>\n      <td>220</td>\n      <td>...</td>\n      <td>0.0</td>\n      <td>0.0</td>\n      <td>0.0</td>\n      <td>0.0</td>\n      <td>0.0</td>\n      <td>0.0</td>\n      <td>0.0</td>\n      <td>0.0</td>\n      <td>0.0</td>\n      <td>0.0</td>\n    </tr>\n    <tr>\n      <th>481894</th>\n      <td>1</td>\n      <td>1915</td>\n      <td>AA</td>\n      <td>N487AA</td>\n      <td>33</td>\n      <td>DFW</td>\n      <td>MCO</td>\n      <td>984</td>\n      <td>1535</td>\n      <td>220</td>\n      <td>...</td>\n      <td>0.0</td>\n      <td>0.0</td>\n      <td>0.0</td>\n      <td>0.0</td>\n      <td>0.0</td>\n      <td>0.0</td>\n      <td>0.0</td>\n      <td>0.0</td>\n      <td>0.0</td>\n      <td>0.0</td>\n    </tr>\n  </tbody>\n</table>\n<p>481895 rows × 36 columns</p>\n</div>"
     },
     "execution_count": 4,
     "metadata": {},
     "output_type": "execute_result"
    }
   ],
   "source": [
    "df = pd.read_csv(\"cleaned_df_with_weather.csv\")\n",
    "OHE = OneHotEncoder(handle_unknown='ignore',sparse_output=False).set_output(transform='pandas')\n",
    "Transformed = OHE.fit_transform(df[['UniqueCarrier']])\n",
    "\n",
    "NewDf = pd.concat([df,Transformed], axis = 1)\n",
    "\n",
    "NewDf"
   ],
   "metadata": {
    "collapsed": false,
    "ExecuteTime": {
     "end_time": "2024-03-09T19:51:34.423603Z",
     "start_time": "2024-03-09T19:51:31.193048Z"
    }
   },
   "id": "c35ab55b34aac34c"
  },
  {
   "cell_type": "code",
   "execution_count": null,
   "outputs": [],
   "source": [],
   "metadata": {
    "collapsed": false
   },
   "id": "ffcf211968944b2d"
  }
 ],
 "metadata": {
  "kernelspec": {
   "display_name": "Python 3",
   "language": "python",
   "name": "python3"
  },
  "language_info": {
   "codemirror_mode": {
    "name": "ipython",
    "version": 2
   },
   "file_extension": ".py",
   "mimetype": "text/x-python",
   "name": "python",
   "nbconvert_exporter": "python",
   "pygments_lexer": "ipython2",
   "version": "2.7.6"
  }
 },
 "nbformat": 4,
 "nbformat_minor": 5
}
