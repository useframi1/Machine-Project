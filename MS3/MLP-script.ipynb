{
 "cells": [
  {
   "cell_type": "code",
   "execution_count": 1,
   "metadata": {},
   "outputs": [],
   "source": [
    "from keras.models import Sequential\n",
    "from keras.layers import Dense\n",
    "from keras.utils import to_categorical\n",
    "from keras.callbacks import EarlyStopping\n",
    "from sklearn.metrics import (\n",
    "    classification_report,\n",
    "    precision_score,\n",
    "    recall_score,\n",
    "    accuracy_score,\n",
    "    f1_score,\n",
    "    r2_score,\n",
    ")\n",
    "from sklearn.model_selection import KFold\n",
    "import pandas as pd\n",
    "import numpy as np\n",
    "from binning import bin"
   ]
  },
  {
   "cell_type": "markdown",
   "metadata": {},
   "source": [
    "Read the train and test datasets\n"
   ]
  },
  {
   "cell_type": "code",
   "execution_count": 2,
   "metadata": {},
   "outputs": [],
   "source": [
    "train_df = pd.read_csv(\"Training_set.csv\")\n",
    "test_df = pd.read_csv(\"Testing_set.csv\")"
   ]
  },
  {
   "cell_type": "markdown",
   "metadata": {},
   "source": [
    "Get the training features and label\n"
   ]
  },
  {
   "cell_type": "code",
   "execution_count": 3,
   "metadata": {},
   "outputs": [],
   "source": [
    "X_train = train_df.iloc[:, :-1].to_numpy()\n",
    "y_train = train_df.iloc[:, -1].to_numpy()"
   ]
  },
  {
   "cell_type": "markdown",
   "metadata": {},
   "source": [
    "Get the testing features and label\n"
   ]
  },
  {
   "cell_type": "code",
   "execution_count": 4,
   "metadata": {},
   "outputs": [],
   "source": [
    "X_test = test_df.iloc[:, :-1].to_numpy()\n",
    "y_test = test_df.iloc[:, -1].to_numpy()"
   ]
  },
  {
   "cell_type": "markdown",
   "metadata": {},
   "source": [
    "Initialize a 5-fold cross-validation object\n"
   ]
  },
  {
   "cell_type": "code",
   "execution_count": 5,
   "metadata": {},
   "outputs": [],
   "source": [
    "kf = KFold(n_splits=5)"
   ]
  },
  {
   "cell_type": "markdown",
   "metadata": {},
   "source": [
    "## MLP Classifier\n"
   ]
  },
  {
   "cell_type": "markdown",
   "metadata": {},
   "source": [
    "Bin the label\n"
   ]
  },
  {
   "cell_type": "code",
   "execution_count": 6,
   "metadata": {},
   "outputs": [],
   "source": [
    "y_train_binned = bin(y_train)\n",
    "y_test_binned = bin(y_test)"
   ]
  },
  {
   "cell_type": "markdown",
   "metadata": {},
   "source": [
    "Convert the label to categorical\n"
   ]
  },
  {
   "cell_type": "code",
   "execution_count": 7,
   "metadata": {},
   "outputs": [],
   "source": [
    "y_train_binned_categorical = to_categorical(y_train_binned)"
   ]
  },
  {
   "cell_type": "markdown",
   "metadata": {},
   "source": [
    "Iniatialize an MLP Classifier model\n"
   ]
  },
  {
   "cell_type": "code",
   "execution_count": 8,
   "metadata": {},
   "outputs": [],
   "source": [
    "mlp_class = Sequential()\n",
    "mlp_class.add(Dense(256, activation=\"relu\"))\n",
    "mlp_class.add(Dense(len(np.unique(y_train_binned)), activation=\"softmax\"))\n",
    "mlp_class.compile(optimizer=\"adam\", loss=\"categorical_crossentropy\")"
   ]
  },
  {
   "cell_type": "markdown",
   "metadata": {},
   "source": [
    "Define an EarlyStopping object\n"
   ]
  },
  {
   "cell_type": "code",
   "execution_count": 9,
   "metadata": {},
   "outputs": [],
   "source": [
    "early_stopping = EarlyStopping(patience=20)"
   ]
  },
  {
   "cell_type": "markdown",
   "metadata": {},
   "source": [
    "Initialize scores lists\n"
   ]
  },
  {
   "cell_type": "code",
   "execution_count": 10,
   "metadata": {},
   "outputs": [],
   "source": [
    "precisions = []\n",
    "recalls = []\n",
    "accuracies = []\n",
    "f1_scores = []"
   ]
  },
  {
   "cell_type": "markdown",
   "metadata": {},
   "source": [
    "Train the model using 5-fold cross-validation\n"
   ]
  },
  {
   "cell_type": "code",
   "execution_count": 12,
   "metadata": {},
   "outputs": [
    {
     "name": "stdout",
     "output_type": "stream",
     "text": [
      "##### FOLD: 1 #####\n",
      "\u001b[1m2410/2410\u001b[0m \u001b[32m━━━━━━━━━━━━━━━━━━━━\u001b[0m\u001b[37m\u001b[0m \u001b[1m1s\u001b[0m 617us/step\n",
      "Precision = 0.3473103519213587\n",
      "Recall = 0.4439847478730027\n",
      "Accuracy = 0.4439847478730027\n",
      "F1 score = 0.38925906444964253\n",
      "\n",
      "##### FOLD: 2 #####\n",
      "\u001b[1m2410/2410\u001b[0m \u001b[32m━━━━━━━━━━━━━━━━━━━━\u001b[0m\u001b[37m\u001b[0m \u001b[1m2s\u001b[0m 620us/step\n",
      "Precision = 0.34894912592698224\n",
      "Recall = 0.45703798814572716\n",
      "Accuracy = 0.45703798814572716\n",
      "F1 score = 0.36496743948782995\n",
      "\n",
      "##### FOLD: 3 #####\n",
      "\u001b[1m2410/2410\u001b[0m \u001b[32m━━━━━━━━━━━━━━━━━━━━\u001b[0m\u001b[37m\u001b[0m \u001b[1m2s\u001b[0m 633us/step\n",
      "Precision = 0.4119510277915492\n",
      "Recall = 0.4593206490019844\n",
      "Accuracy = 0.4593206490019844\n",
      "F1 score = 0.3772199455589978\n",
      "\n",
      "##### FOLD: 4 #####\n",
      "\u001b[1m2410/2410\u001b[0m \u001b[32m━━━━━━━━━━━━━━━━━━━━\u001b[0m\u001b[37m\u001b[0m \u001b[1m1s\u001b[0m 617us/step\n",
      "Precision = 0.3531514283921204\n",
      "Recall = 0.46216100540834987\n",
      "Accuracy = 0.46216100540834987\n",
      "F1 score = 0.38357574426180013\n",
      "\n",
      "##### FOLD: 5 #####\n",
      "\u001b[1m2410/2410\u001b[0m \u001b[32m━━━━━━━━━━━━━━━━━━━━\u001b[0m\u001b[37m\u001b[0m \u001b[1m2s\u001b[0m 633us/step\n",
      "Precision = 0.40454977850451485\n",
      "Recall = 0.45804962193429566\n",
      "Accuracy = 0.45804962193429566\n",
      "F1 score = 0.3514572469246317\n",
      "\n"
     ]
    }
   ],
   "source": [
    "fold = 1\n",
    "for train, test in kf.split(X_train, y_train_binned):\n",
    "    print(f\"##### FOLD: {fold} #####\")\n",
    "\n",
    "    # Fit the model\n",
    "    mlp_class.fit(\n",
    "        X_train[train],\n",
    "        y_train_binned_categorical[train],\n",
    "        epochs=100,\n",
    "        batch_size=32,\n",
    "        validation_data=(X_train[test], y_train_binned_categorical[test]),\n",
    "        callbacks=[early_stopping],\n",
    "        verbose=0,\n",
    "    )\n",
    "\n",
    "    # Predict on the test set\n",
    "    predictions = np.argmax(mlp_class.predict(X_train[test]), axis=1)\n",
    "\n",
    "    # Evaluate the model\n",
    "    precision = precision_score(\n",
    "        y_true=y_train_binned[test],\n",
    "        y_pred=predictions,\n",
    "        zero_division=0,\n",
    "        average=\"weighted\",\n",
    "    )\n",
    "    recall = recall_score(\n",
    "        y_true=y_train_binned[test],\n",
    "        y_pred=predictions,\n",
    "        zero_division=0,\n",
    "        average=\"weighted\",\n",
    "    )\n",
    "    accuracy = accuracy_score(y_true=y_train_binned[test], y_pred=predictions)\n",
    "    f1 = f1_score(\n",
    "        y_true=y_train_binned[test],\n",
    "        y_pred=predictions,\n",
    "        zero_division=0,\n",
    "        average=\"weighted\",\n",
    "    )\n",
    "\n",
    "    # Store the result\n",
    "    precisions.append(precision)\n",
    "    recalls.append(recall)\n",
    "    accuracies.append(accuracy)\n",
    "    f1_scores.append(f1)\n",
    "\n",
    "    # Print the scores for each fold\n",
    "    print(f\"Precision = {precision}\")\n",
    "    print(f\"Recall = {recall}\")\n",
    "    print(f\"Accuracy = {accuracy}\")\n",
    "    print(f\"F1 score = {f1}\\n\")\n",
    "\n",
    "    fold += 1"
   ]
  },
  {
   "cell_type": "markdown",
   "metadata": {},
   "source": [
    "Print the mean scores of the folds\n"
   ]
  },
  {
   "cell_type": "code",
   "execution_count": 13,
   "metadata": {},
   "outputs": [
    {
     "name": "stdout",
     "output_type": "stream",
     "text": [
      "Mean Scores:\n",
      "Mean Precision = 0.3684833020259964\n",
      "Mean Recall = 0.45603521773462785\n",
      "Mean Accuracy = 0.45603521773462785\n",
      "Mean F1 score = 0.3741413126245405\n"
     ]
    }
   ],
   "source": [
    "print(\"Mean Scores:\")\n",
    "print(f\"Mean Precision = {np.mean(precisions)}\")\n",
    "print(f\"Mean Recall = {np.mean(recalls)}\")\n",
    "print(f\"Mean Accuracy = {np.mean(accuracies)}\")\n",
    "print(f\"Mean F1 score = {np.mean(f1_scores)}\")"
   ]
  },
  {
   "cell_type": "markdown",
   "metadata": {},
   "source": [
    "Make predictions on the test set\n"
   ]
  },
  {
   "cell_type": "code",
   "execution_count": 14,
   "metadata": {},
   "outputs": [
    {
     "name": "stdout",
     "output_type": "stream",
     "text": [
      "\u001b[1m3012/3012\u001b[0m \u001b[32m━━━━━━━━━━━━━━━━━━━━\u001b[0m\u001b[37m\u001b[0m \u001b[1m2s\u001b[0m 735us/step\n"
     ]
    }
   ],
   "source": [
    "predictions = np.argmax(mlp_class.predict(X_test), axis=1)"
   ]
  },
  {
   "cell_type": "markdown",
   "metadata": {},
   "source": [
    "Evaluate the model\n"
   ]
  },
  {
   "cell_type": "code",
   "execution_count": 15,
   "metadata": {},
   "outputs": [
    {
     "name": "stdout",
     "output_type": "stream",
     "text": [
      "              precision    recall  f1-score   support\n",
      "\n",
      "           0       0.00      0.00      0.00     11718\n",
      "           1       0.46      0.91      0.61     42216\n",
      "           2       0.42      0.16      0.24     32447\n",
      "           3       0.00      0.00      0.00      9998\n",
      "\n",
      "    accuracy                           0.45     96379\n",
      "   macro avg       0.22      0.27      0.21     96379\n",
      "weighted avg       0.34      0.45      0.35     96379\n",
      "\n"
     ]
    }
   ],
   "source": [
    "print(classification_report(y_true=y_test_binned, y_pred=predictions, zero_division=0))"
   ]
  },
  {
   "cell_type": "markdown",
   "metadata": {},
   "source": [
    "## MLP Regressor\n"
   ]
  },
  {
   "cell_type": "markdown",
   "metadata": {},
   "source": [
    "Iniatialize an MLP Regressor model\n"
   ]
  },
  {
   "cell_type": "code",
   "execution_count": 16,
   "metadata": {},
   "outputs": [],
   "source": [
    "mlp_reg = Sequential()\n",
    "mlp_reg.add(Dense(256, activation=\"relu\"))\n",
    "mlp_reg.add(Dense(1))\n",
    "mlp_reg.compile(optimizer=\"adam\", loss=\"mse\")"
   ]
  },
  {
   "cell_type": "markdown",
   "metadata": {},
   "source": [
    "Define an EarlyStopping object\n"
   ]
  },
  {
   "cell_type": "code",
   "execution_count": 17,
   "metadata": {},
   "outputs": [],
   "source": [
    "early_stopping = EarlyStopping(patience=20)"
   ]
  },
  {
   "cell_type": "markdown",
   "metadata": {},
   "source": [
    "Initialize scores lists\n"
   ]
  },
  {
   "cell_type": "code",
   "execution_count": 18,
   "metadata": {},
   "outputs": [],
   "source": [
    "r2_scores = []"
   ]
  },
  {
   "cell_type": "markdown",
   "metadata": {},
   "source": [
    "Train the model using 5-fold cross-validation\n"
   ]
  },
  {
   "cell_type": "code",
   "execution_count": 19,
   "metadata": {},
   "outputs": [
    {
     "name": "stdout",
     "output_type": "stream",
     "text": [
      "##### FOLD: 1 #####\n",
      "\u001b[1m2410/2410\u001b[0m \u001b[32m━━━━━━━━━━━━━━━━━━━━\u001b[0m\u001b[37m\u001b[0m \u001b[1m2s\u001b[0m 630us/step\n",
      "R2 score = 0.053430649501092\n",
      "##### FOLD: 2 #####\n",
      "\u001b[1m2410/2410\u001b[0m \u001b[32m━━━━━━━━━━━━━━━━━━━━\u001b[0m\u001b[37m\u001b[0m \u001b[1m2s\u001b[0m 628us/step\n",
      "R2 score = 0.07431661763468589\n",
      "##### FOLD: 3 #####\n",
      "\u001b[1m2410/2410\u001b[0m \u001b[32m━━━━━━━━━━━━━━━━━━━━\u001b[0m\u001b[37m\u001b[0m \u001b[1m1s\u001b[0m 611us/step\n",
      "R2 score = 0.08929963797698914\n",
      "##### FOLD: 4 #####\n",
      "\u001b[1m2410/2410\u001b[0m \u001b[32m━━━━━━━━━━━━━━━━━━━━\u001b[0m\u001b[37m\u001b[0m \u001b[1m2s\u001b[0m 625us/step\n",
      "R2 score = 0.08792789918445143\n",
      "##### FOLD: 5 #####\n",
      "\u001b[1m2410/2410\u001b[0m \u001b[32m━━━━━━━━━━━━━━━━━━━━\u001b[0m\u001b[37m\u001b[0m \u001b[1m2s\u001b[0m 622us/step\n",
      "R2 score = 0.09455471162797968\n"
     ]
    }
   ],
   "source": [
    "fold = 1\n",
    "for train, test in kf.split(X_train, y_train_binned):\n",
    "    print(f\"##### FOLD: {fold} #####\")\n",
    "\n",
    "    # Fit the model\n",
    "    mlp_reg.fit(\n",
    "        X_train[train],\n",
    "        y_train[train],\n",
    "        epochs=100,\n",
    "        batch_size=32,\n",
    "        validation_data=(X_train[test], y_train[test]),\n",
    "        callbacks=[early_stopping],\n",
    "        verbose=0,\n",
    "    )\n",
    "\n",
    "    # Predict on the test set\n",
    "    predictions = mlp_reg.predict(X_train[test])\n",
    "\n",
    "    # Evaluate the model\n",
    "    r2 = r2_score(y_true=y_train[test], y_pred=predictions)\n",
    "\n",
    "    # Store the result\n",
    "    r2_scores.append(r2)\n",
    "\n",
    "    # Print the scores for each fold\n",
    "    print(f\"R2 score = {r2}\")\n",
    "\n",
    "    fold += 1"
   ]
  },
  {
   "cell_type": "markdown",
   "metadata": {},
   "source": [
    "Print the mean scores of the folds\n"
   ]
  },
  {
   "cell_type": "code",
   "execution_count": 20,
   "metadata": {},
   "outputs": [
    {
     "name": "stdout",
     "output_type": "stream",
     "text": [
      "Mean R2 score = 0.07990590318503962\n"
     ]
    }
   ],
   "source": [
    "print(f\"Mean R2 score = {np.mean(r2_scores)}\")"
   ]
  },
  {
   "cell_type": "markdown",
   "metadata": {},
   "source": [
    "Make predictions on the test set\n"
   ]
  },
  {
   "cell_type": "code",
   "execution_count": 21,
   "metadata": {},
   "outputs": [
    {
     "name": "stdout",
     "output_type": "stream",
     "text": [
      "\u001b[1m3012/3012\u001b[0m \u001b[32m━━━━━━━━━━━━━━━━━━━━\u001b[0m\u001b[37m\u001b[0m \u001b[1m2s\u001b[0m 593us/step\n"
     ]
    }
   ],
   "source": [
    "predictions = mlp_reg.predict(X_test)"
   ]
  },
  {
   "cell_type": "markdown",
   "metadata": {},
   "source": [
    "Evaluate the model\n"
   ]
  },
  {
   "cell_type": "code",
   "execution_count": 22,
   "metadata": {},
   "outputs": [
    {
     "name": "stdout",
     "output_type": "stream",
     "text": [
      "0.05237978049936287\n"
     ]
    }
   ],
   "source": [
    "print(r2_score(y_true=y_test, y_pred=predictions))"
   ]
  }
 ],
 "metadata": {
  "kernelspec": {
   "display_name": "Python 3",
   "language": "python",
   "name": "python3"
  },
  "language_info": {
   "codemirror_mode": {
    "name": "ipython",
    "version": 3
   },
   "file_extension": ".py",
   "mimetype": "text/x-python",
   "name": "python",
   "nbconvert_exporter": "python",
   "pygments_lexer": "ipython3",
   "version": "3.12.0"
  }
 },
 "nbformat": 4,
 "nbformat_minor": 2
}
