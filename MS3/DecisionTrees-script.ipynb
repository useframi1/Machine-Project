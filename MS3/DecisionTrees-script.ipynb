{
 "cells": [
  {
   "cell_type": "markdown",
   "metadata": {},
   "source": [
    "# Decision Trees\n"
   ]
  },
  {
   "cell_type": "code",
   "execution_count": 1,
   "metadata": {},
   "outputs": [],
   "source": [
    "from sklearn.tree import DecisionTreeClassifier, DecisionTreeRegressor\n",
    "from sklearn.metrics import (\n",
    "    classification_report,\n",
    "    r2_score,\n",
    "    precision_score,\n",
    "    recall_score,\n",
    "    accuracy_score,\n",
    "    f1_score,\n",
    ")\n",
    "from sklearn.model_selection import KFold\n",
    "import pandas as pd\n",
    "import numpy as np\n",
    "from binning import bin"
   ]
  },
  {
   "cell_type": "markdown",
   "metadata": {},
   "source": [
    "Read the train and test datasets\n"
   ]
  },
  {
   "cell_type": "code",
   "execution_count": 2,
   "metadata": {},
   "outputs": [],
   "source": [
    "train_df = pd.read_csv(\"Training_set.csv\")\n",
    "test_df = pd.read_csv(\"Testing_set.csv\")"
   ]
  },
  {
   "cell_type": "markdown",
   "metadata": {},
   "source": [
    "Get the training features and label\n"
   ]
  },
  {
   "cell_type": "code",
   "execution_count": 3,
   "metadata": {},
   "outputs": [],
   "source": [
    "X_train = train_df.iloc[:, :-1].to_numpy()\n",
    "y_train = train_df.iloc[:, -1].to_numpy()"
   ]
  },
  {
   "cell_type": "markdown",
   "metadata": {},
   "source": [
    "Get the testing features and label\n"
   ]
  },
  {
   "cell_type": "code",
   "execution_count": 4,
   "metadata": {},
   "outputs": [],
   "source": [
    "X_test = test_df.iloc[:, :-1].to_numpy()\n",
    "y_test = test_df.iloc[:, -1].to_numpy()"
   ]
  },
  {
   "cell_type": "markdown",
   "metadata": {},
   "source": [
    "Initialize a 5-fold cross-validation object\n"
   ]
  },
  {
   "cell_type": "code",
   "execution_count": 5,
   "metadata": {},
   "outputs": [],
   "source": [
    "kf = KFold(n_splits=5)"
   ]
  },
  {
   "cell_type": "markdown",
   "metadata": {},
   "source": [
    "## Decision Trees Classifier\n"
   ]
  },
  {
   "cell_type": "markdown",
   "metadata": {},
   "source": [
    "Bin the label\n"
   ]
  },
  {
   "cell_type": "code",
   "execution_count": 6,
   "metadata": {},
   "outputs": [],
   "source": [
    "y_train_binned = bin(y_train)\n",
    "y_test_binned = bin(y_test)"
   ]
  },
  {
   "cell_type": "markdown",
   "metadata": {},
   "source": [
    "Iniatialize a DecisionTreeClassifier\n"
   ]
  },
  {
   "cell_type": "code",
   "execution_count": 7,
   "metadata": {},
   "outputs": [],
   "source": [
    "dtc = DecisionTreeClassifier()"
   ]
  },
  {
   "cell_type": "markdown",
   "metadata": {},
   "source": [
    "Initialize scores lists\n"
   ]
  },
  {
   "cell_type": "code",
   "execution_count": 8,
   "metadata": {},
   "outputs": [],
   "source": [
    "precisions = []\n",
    "recalls = []\n",
    "accuracies = []\n",
    "f1_scores = []"
   ]
  },
  {
   "cell_type": "markdown",
   "metadata": {},
   "source": [
    "Train the model using 5-fold cross-validation\n"
   ]
  },
  {
   "cell_type": "code",
   "execution_count": 9,
   "metadata": {},
   "outputs": [
    {
     "name": "stdout",
     "output_type": "stream",
     "text": [
      "##### FOLD: 1 #####\n",
      "Precision = 0.3846006702306125\n",
      "Recall = 0.3881510686864495\n",
      "Accuracy = 0.3881510686864495\n",
      "F1 score = 0.3862798949676723\n",
      "\n",
      "##### FOLD: 2 #####\n",
      "Precision = 0.3812037326638463\n",
      "Recall = 0.3859123510109853\n",
      "Accuracy = 0.3859123510109853\n",
      "F1 score = 0.3834241346848108\n",
      "\n",
      "##### FOLD: 3 #####\n",
      "Precision = 0.3835564276741918\n",
      "Recall = 0.3894919782628432\n",
      "Accuracy = 0.3894919782628432\n",
      "F1 score = 0.38631820727491434\n",
      "\n",
      "##### FOLD: 4 #####\n",
      "Precision = 0.38566724289705234\n",
      "Recall = 0.3901923401164676\n",
      "Accuracy = 0.3901923401164676\n",
      "F1 score = 0.38780658903326465\n",
      "\n",
      "##### FOLD: 5 #####\n",
      "Precision = 0.38191121943054057\n",
      "Recall = 0.38626253193779747\n",
      "Accuracy = 0.38626253193779747\n",
      "F1 score = 0.38397411310131624\n",
      "\n"
     ]
    }
   ],
   "source": [
    "fold = 1\n",
    "for train, test in kf.split(X_train, y_train_binned):\n",
    "    print(f\"##### FOLD: {fold} #####\")\n",
    "\n",
    "    # Fit the model\n",
    "    dtc.fit(X_train[train], y_train_binned[train])\n",
    "\n",
    "    # Predict on the test set\n",
    "    predictions = dtc.predict(X_train[test])\n",
    "\n",
    "    # Evaluate the model\n",
    "    precision = precision_score(\n",
    "        y_true=y_train_binned[test],\n",
    "        y_pred=predictions,\n",
    "        zero_division=0,\n",
    "        average=\"weighted\",\n",
    "    )\n",
    "    recall = recall_score(\n",
    "        y_true=y_train_binned[test],\n",
    "        y_pred=predictions,\n",
    "        zero_division=0,\n",
    "        average=\"weighted\",\n",
    "    )\n",
    "    accuracy = accuracy_score(y_true=y_train_binned[test], y_pred=predictions)\n",
    "    f1 = f1_score(\n",
    "        y_true=y_train_binned[test],\n",
    "        y_pred=predictions,\n",
    "        zero_division=0,\n",
    "        average=\"weighted\",\n",
    "    )\n",
    "\n",
    "    # Store the result\n",
    "    precisions.append(precision)\n",
    "    recalls.append(recall)\n",
    "    accuracies.append(accuracy)\n",
    "    f1_scores.append(f1)\n",
    "\n",
    "    # Print the scores for each fold\n",
    "    print(f\"Precision = {precision}\")\n",
    "    print(f\"Recall = {recall}\")\n",
    "    print(f\"Accuracy = {accuracy}\")\n",
    "    print(f\"F1 score = {f1}\\n\")\n",
    "\n",
    "    fold += 1"
   ]
  },
  {
   "cell_type": "markdown",
   "metadata": {},
   "source": [
    "Print the mean scores of the folds\n"
   ]
  },
  {
   "cell_type": "code",
   "execution_count": 10,
   "metadata": {},
   "outputs": [
    {
     "name": "stdout",
     "output_type": "stream",
     "text": [
      "Mean Scores:\n",
      "Mean Precision = 0.3833878585792487\n",
      "Mean Recall = 0.3880020540029086\n",
      "Mean Accuracy = 0.3880020540029086\n",
      "Mean F1 score = 0.38556058781239566\n"
     ]
    }
   ],
   "source": [
    "print(\"Mean Scores:\")\n",
    "print(f\"Mean Precision = {np.mean(precisions)}\")\n",
    "print(f\"Mean Recall = {np.mean(recalls)}\")\n",
    "print(f\"Mean Accuracy = {np.mean(accuracies)}\")\n",
    "print(f\"Mean F1 score = {np.mean(f1_scores)}\")"
   ]
  },
  {
   "cell_type": "markdown",
   "metadata": {},
   "source": [
    "Make predictions on the test set\n"
   ]
  },
  {
   "cell_type": "code",
   "execution_count": 11,
   "metadata": {},
   "outputs": [],
   "source": [
    "predictions = dtc.predict(X_test)"
   ]
  },
  {
   "cell_type": "markdown",
   "metadata": {},
   "source": [
    "Evaluate the model\n"
   ]
  },
  {
   "cell_type": "code",
   "execution_count": 12,
   "metadata": {},
   "outputs": [
    {
     "name": "stdout",
     "output_type": "stream",
     "text": [
      "              precision    recall  f1-score   support\n",
      "\n",
      "           0       0.17      0.16      0.17     11718\n",
      "           1       0.48      0.50      0.49     42216\n",
      "           2       0.38      0.38      0.38     32447\n",
      "           3       0.23      0.20      0.22      9998\n",
      "\n",
      "    accuracy                           0.39     96379\n",
      "   macro avg       0.32      0.31      0.31     96379\n",
      "weighted avg       0.38      0.39      0.38     96379\n",
      "\n"
     ]
    }
   ],
   "source": [
    "print(classification_report(y_true=y_test_binned, y_pred=predictions, zero_division=0))"
   ]
  },
  {
   "cell_type": "markdown",
   "metadata": {},
   "source": [
    "## Decision Trees Regressor\n"
   ]
  },
  {
   "cell_type": "markdown",
   "metadata": {},
   "source": [
    "Iniatialize a DecisionTreeRegressor\n"
   ]
  },
  {
   "cell_type": "code",
   "execution_count": 13,
   "metadata": {},
   "outputs": [],
   "source": [
    "dtr = DecisionTreeRegressor()"
   ]
  },
  {
   "cell_type": "markdown",
   "metadata": {},
   "source": [
    "Initialize scores lists\n"
   ]
  },
  {
   "cell_type": "code",
   "execution_count": 14,
   "metadata": {},
   "outputs": [],
   "source": [
    "r2_scores = []"
   ]
  },
  {
   "cell_type": "markdown",
   "metadata": {},
   "source": [
    "Train the model using 5-fold cross-validation\n"
   ]
  },
  {
   "cell_type": "code",
   "execution_count": 15,
   "metadata": {},
   "outputs": [
    {
     "name": "stdout",
     "output_type": "stream",
     "text": [
      "##### FOLD: 1 #####\n",
      "R2 score = -0.5473364931842335\n",
      "##### FOLD: 2 #####\n",
      "R2 score = -0.5953328053601734\n",
      "##### FOLD: 3 #####\n",
      "R2 score = -0.5917008181585028\n",
      "##### FOLD: 4 #####\n",
      "R2 score = -0.5678642825657658\n",
      "##### FOLD: 5 #####\n",
      "R2 score = -0.5622782058334266\n"
     ]
    }
   ],
   "source": [
    "fold = 1\n",
    "for train, test in kf.split(X_train, y_train):\n",
    "    print(f\"##### FOLD: {fold} #####\")\n",
    "\n",
    "    # Fit the model\n",
    "    dtr.fit(X_train[train], y_train[train])\n",
    "\n",
    "    # Predict on the test set\n",
    "    predictions = dtr.predict(X_train[test])\n",
    "\n",
    "    # Evaluate the model\n",
    "    r2 = r2_score(y_true=y_train[test], y_pred=predictions)\n",
    "\n",
    "    # Store the result\n",
    "    r2_scores.append(r2)\n",
    "\n",
    "    # Print the scores for each fold\n",
    "    print(f\"R2 score = {r2}\")\n",
    "\n",
    "    fold += 1"
   ]
  },
  {
   "cell_type": "markdown",
   "metadata": {},
   "source": [
    "Print the mean scores of the folds\n"
   ]
  },
  {
   "cell_type": "code",
   "execution_count": 16,
   "metadata": {},
   "outputs": [
    {
     "name": "stdout",
     "output_type": "stream",
     "text": [
      "Mean R2 score = -0.5729025210204204\n"
     ]
    }
   ],
   "source": [
    "print(f\"Mean R2 score = {np.mean(r2_scores)}\")"
   ]
  },
  {
   "cell_type": "markdown",
   "metadata": {},
   "source": [
    "Make predictions on the test set\n"
   ]
  },
  {
   "cell_type": "code",
   "execution_count": 17,
   "metadata": {},
   "outputs": [],
   "source": [
    "predictions = dtr.predict(X_test)"
   ]
  },
  {
   "cell_type": "markdown",
   "metadata": {},
   "source": [
    "Evaluate the model\n"
   ]
  },
  {
   "cell_type": "code",
   "execution_count": 18,
   "metadata": {},
   "outputs": [
    {
     "name": "stdout",
     "output_type": "stream",
     "text": [
      "-0.5457513275766954\n"
     ]
    }
   ],
   "source": [
    "print(r2_score(y_true=y_test, y_pred=predictions))"
   ]
  }
 ],
 "metadata": {
  "kernelspec": {
   "display_name": "Python 3",
   "language": "python",
   "name": "python3"
  },
  "language_info": {
   "codemirror_mode": {
    "name": "ipython",
    "version": 3
   },
   "file_extension": ".py",
   "mimetype": "text/x-python",
   "name": "python",
   "nbconvert_exporter": "python",
   "pygments_lexer": "ipython3",
   "version": "3.12.0"
  }
 },
 "nbformat": 4,
 "nbformat_minor": 2
}
