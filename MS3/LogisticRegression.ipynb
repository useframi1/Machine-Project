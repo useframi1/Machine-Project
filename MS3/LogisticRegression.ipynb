{
 "cells": [
  {
   "cell_type": "markdown",
   "metadata": {},
   "source": [
    "# Logistic Regression\n"
   ]
  },
  {
   "cell_type": "markdown",
   "metadata": {},
   "source": [
    "Imports\n"
   ]
  },
  {
   "cell_type": "code",
   "execution_count": 1,
   "metadata": {},
   "outputs": [],
   "source": [
    "from sklearn.linear_model import LogisticRegression\n",
    "from sklearn.metrics import classification_report\n",
    "import pandas as pd\n",
    "from binning import bin"
   ]
  },
  {
   "cell_type": "markdown",
   "metadata": {},
   "source": [
    "Read the train and test datasets\n"
   ]
  },
  {
   "cell_type": "code",
   "execution_count": 2,
   "metadata": {},
   "outputs": [],
   "source": [
    "train_df = pd.read_csv(\"Training_set.csv\")\n",
    "test_df = pd.read_csv(\"Testing_set.csv\")"
   ]
  },
  {
   "cell_type": "markdown",
   "metadata": {},
   "source": [
    "Get the training features and label\n"
   ]
  },
  {
   "cell_type": "code",
   "execution_count": 3,
   "metadata": {},
   "outputs": [],
   "source": [
    "X_train = train_df.iloc[:, :-1].to_numpy()\n",
    "y_train = train_df.iloc[:, -1].to_numpy()"
   ]
  },
  {
   "cell_type": "markdown",
   "metadata": {},
   "source": [
    "Get the testing features and label\n"
   ]
  },
  {
   "cell_type": "code",
   "execution_count": 4,
   "metadata": {},
   "outputs": [],
   "source": [
    "X_test = test_df.iloc[:, :-1].to_numpy()\n",
    "y_test = test_df.iloc[:, -1].to_numpy()"
   ]
  },
  {
   "cell_type": "markdown",
   "metadata": {},
   "source": [
    "Bin the label\n"
   ]
  },
  {
   "cell_type": "code",
   "execution_count": 5,
   "metadata": {},
   "outputs": [],
   "source": [
    "y_train_binned = bin(y_train)\n",
    "y_test_binned = bin(y_test)"
   ]
  },
  {
   "cell_type": "markdown",
   "metadata": {},
   "source": [
    "Initilaize a LogisiticRegression classifier\n"
   ]
  },
  {
   "cell_type": "code",
   "execution_count": 6,
   "metadata": {},
   "outputs": [],
   "source": [
    "lrc = LogisticRegression(multi_class=\"ovr\", solver=\"newton-cholesky\", verbose=2)"
   ]
  },
  {
   "cell_type": "markdown",
   "metadata": {},
   "source": [
    "Train the model\n"
   ]
  },
  {
   "cell_type": "code",
   "execution_count": 7,
   "metadata": {},
   "outputs": [
    {
     "name": "stdout",
     "output_type": "stream",
     "text": [
      "Newton iter=1\n",
      "  Backtracking Line Search\n",
      "    eps=10 * finfo.eps=3.552713678800501e-15\n",
      "    line search iteration=1, step size=1\n",
      "      check loss improvement <= armijo term: -0.32284070434836715 <= -0.0002887451561436569 True\n",
      "  Check Convergence\n",
      "    1. max |gradient| 107.47784235845218 <= 0.0001\n",
      "Newton iter=2\n",
      "  Backtracking Line Search\n",
      "    eps=10 * finfo.eps=3.552713678800501e-15\n",
      "    line search iteration=1, step size=1\n",
      "      check loss improvement <= armijo term: -0.01911852035288719 <= -1.6521341035987454e-05 True\n",
      "  Check Convergence\n",
      "    1. max |gradient| 18.85509711118075 <= 0.0001\n",
      "Newton iter=3\n",
      "  Backtracking Line Search\n",
      "    eps=10 * finfo.eps=3.552713678800501e-15\n",
      "    line search iteration=1, step size=1\n",
      "      check loss improvement <= armijo term: -0.001109800235373437 <= -1.0251334901335554e-06 True\n",
      "  Check Convergence\n",
      "    1. max |gradient| 1.4155074418934168 <= 0.0001\n",
      "Newton iter=4\n"
     ]
    }
   ],
   "source": [
    "lrc.fit(X_train, y_train_binned)"
   ]
  },
  {
   "cell_type": "markdown",
   "metadata": {},
   "source": [
    "Make the predictions on the test set\n"
   ]
  },
  {
   "cell_type": "code",
   "execution_count": null,
   "metadata": {},
   "outputs": [],
   "source": [
    "y_pred = lrc.predict(X_test)"
   ]
  },
  {
   "cell_type": "markdown",
   "metadata": {},
   "source": [
    "Evaluate the predictions\n"
   ]
  },
  {
   "cell_type": "code",
   "execution_count": null,
   "metadata": {},
   "outputs": [
    {
     "name": "stdout",
     "output_type": "stream",
     "text": [
      "              precision    recall  f1-score   support\n",
      "\n",
      "           0       0.42      0.72      0.53     35520\n",
      "           1       0.35      0.16      0.22     30305\n",
      "           2       0.39      0.33      0.36     26983\n",
      "           3       0.00      0.00      0.00      2967\n",
      "           4       0.00      0.00      0.00       604\n",
      "\n",
      "    accuracy                           0.41     96379\n",
      "   macro avg       0.23      0.24      0.22     96379\n",
      "weighted avg       0.38      0.41      0.37     96379\n",
      "\n"
     ]
    }
   ],
   "source": [
    "print(classification_report(y_true=y_test_binned, y_pred=y_pred, zero_division=0))"
   ]
  }
 ],
 "metadata": {
  "kernelspec": {
   "display_name": "Python 3",
   "language": "python",
   "name": "python3"
  },
  "language_info": {
   "codemirror_mode": {
    "name": "ipython",
    "version": 3
   },
   "file_extension": ".py",
   "mimetype": "text/x-python",
   "name": "python",
   "nbconvert_exporter": "python",
   "pygments_lexer": "ipython3",
   "version": "3.12.0"
  }
 },
 "nbformat": 4,
 "nbformat_minor": 2
}
