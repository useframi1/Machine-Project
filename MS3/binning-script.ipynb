{
 "cells": [
  {
   "cell_type": "code",
   "execution_count": 1,
   "metadata": {},
   "outputs": [],
   "source": [
    "import pandas as pd\n",
    "import warnings\n",
    "\n",
    "warnings.filterwarnings(\"ignore\")"
   ]
  },
  {
   "cell_type": "code",
   "execution_count": 2,
   "metadata": {},
   "outputs": [],
   "source": [
    "df = pd.read_csv(\"../Cleaned_Dataset.csv\")"
   ]
  },
  {
   "cell_type": "code",
   "execution_count": 3,
   "metadata": {},
   "outputs": [
    {
     "data": {
      "text/plain": [
       "0         1\n",
       "1         2\n",
       "2         2\n",
       "3         0\n",
       "4         0\n",
       "         ..\n",
       "481890    1\n",
       "481891    1\n",
       "481892    1\n",
       "481893    1\n",
       "481894    1\n",
       "Name: DepDelay, Length: 481895, dtype: int64"
      ]
     },
     "execution_count": 3,
     "metadata": {},
     "output_type": "execute_result"
    }
   ],
   "source": [
    "df[\"DepDelay\"].values[df[\"DepDelay\"] <= 30] = 0  # type:ignore\n",
    "df[\"DepDelay\"].values[\n",
    "    ((df[\"DepDelay\"] > 30) & (df[\"DepDelay\"] <= 60))\n",
    "] = 1  # type:ignore\n",
    "df[\"DepDelay\"].values[\n",
    "    ((df[\"DepDelay\"] > 60) & (df[\"DepDelay\"] <= 180))\n",
    "] = 2  # type:ignore\n",
    "df[\"DepDelay\"].values[\n",
    "    ((df[\"DepDelay\"] > 180) & (df[\"DepDelay\"] <= 300))\n",
    "] = 3  # type:ignore\n",
    "df[\"DepDelay\"].values[((df[\"DepDelay\"] > 300))] = 4  # type:ignore\n",
    "\n",
    "df[\"DepDelay\"]"
   ]
  },
  {
   "cell_type": "code",
   "execution_count": 4,
   "metadata": {},
   "outputs": [],
   "source": [
    "df.to_csv(\"../Binned_Dataset.csv\", index=False)"
   ]
  }
 ],
 "metadata": {
  "kernelspec": {
   "display_name": "Python 3",
   "language": "python",
   "name": "python3"
  },
  "language_info": {
   "codemirror_mode": {
    "name": "ipython",
    "version": 3
   },
   "file_extension": ".py",
   "mimetype": "text/x-python",
   "name": "python",
   "nbconvert_exporter": "python",
   "pygments_lexer": "ipython3",
   "version": "3.12.0"
  }
 },
 "nbformat": 4,
 "nbformat_minor": 2
}
