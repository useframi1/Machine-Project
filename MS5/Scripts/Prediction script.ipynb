{
 "cells": [
  {
   "cell_type": "code",
   "execution_count": 54,
   "metadata": {},
   "outputs": [],
   "source": [
    "import pandas as pd\n",
    "import numpy as np\n",
    "from datetime import date\n"
   ]
  },
  {
   "cell_type": "markdown",
   "metadata": {},
   "source": [
    "### Extract Columns List"
   ]
  },
  {
   "cell_type": "code",
   "execution_count": 55,
   "metadata": {},
   "outputs": [
    {
     "data": {
      "text/plain": [
       "4073"
      ]
     },
     "execution_count": 55,
     "metadata": {},
     "output_type": "execute_result"
    }
   ],
   "source": [
    "with open('column_names.txt', 'r') as file:\n",
    "    text = file.read()\n",
    "\n",
    "Columns_List = text.split('\\n')\n",
    "\n",
    "Cols_List = [item.strip() for item in Columns_List if item.strip()]\n",
    "\n",
    "len(Cols_List)\n"
   ]
  },
  {
   "cell_type": "markdown",
   "metadata": {},
   "source": [
    "### Initialize Single-Row Df"
   ]
  },
  {
   "cell_type": "code",
   "execution_count": 56,
   "metadata": {},
   "outputs": [
    {
     "name": "stdout",
     "output_type": "stream",
     "text": [
      "<class 'pandas.core.frame.DataFrame'>\n",
      "RangeIndex: 0 entries\n",
      "Columns: 4073 entries, ScheduledArrTime to DepDelay\n",
      "dtypes: object(4073)\n",
      "memory usage: 132.0+ bytes\n"
     ]
    }
   ],
   "source": [
    "df=pd.DataFrame(columns=Cols_List)\n",
    "df.info()"
   ]
  },
  {
   "cell_type": "code",
   "execution_count": 57,
   "metadata": {},
   "outputs": [],
   "source": [
    "Date = date(2019,3,14)   \n",
    "ScheduledArrTime  = 230\n",
    "ScheduledDepTime   =568     \n",
    "ScheduledElapsedTime  =28974\n",
    "Airline_Code = \"WN\"\n",
    "TailNum =\"924WN\"          \n",
    "Org_Airport_Code =\"LAX\"      \n",
    "Dest_Airport_Code = \"ATL\"          \n",
    "Distance  =10000         \n"
   ]
  },
  {
   "cell_type": "code",
   "execution_count": 58,
   "metadata": {},
   "outputs": [],
   "source": [
    "def OHE(df,Date,ScheduledArrTime,ScheduledDepTime,ScheduledElapsedTime,Airline_Code,TailNum,Org_Airport_Code,Dest_Airport_Code,Distance):\n",
    "    df['ScheduledArrTime']=pd.Series(ScheduledArrTime)\n",
    "    df['ScheduledDepTime']=pd.Series(ScheduledDepTime)\n",
    "    df['ScheduledElapsedTime']=pd.Series(ScheduledElapsedTime)\n",
    "\n",
    "    DP_Airline = \"UniqueCarrier_\"+Airline_Code\n",
    "    df[DP_Airline]=pd.Series(1)\n",
    "\n",
    "    df[TailNum]=pd.Series(1)\n",
    "\n",
    "    DP_Origin = \"Origin_\"+Org_Airport_Code\n",
    "    df[DP_Origin]=pd.Series(1)\n",
    "\n",
    "    DP_Origin = \"Dest_\"+Dest_Airport_Code\n",
    "    df[DP_Origin]=pd.Series(1)\n",
    "\n",
    "    df[\"Distance\"]=pd.Series(Distance)\n",
    "\n",
    "    DP_Weekday = \"DayOfWeek_\"+str(Date.weekday())\n",
    "    df[DP_Weekday]=pd.Series(1)\n",
    "\n",
    "    df[\"Day\"]=pd.Series(Date.day)\n",
    "\n",
    "    DP_Month = \"Month_\"+str(Date.month)\n",
    "    df[DP_Month]=pd.Series(1)\n",
    "    df=df.fillna(0,inplace=True)\n",
    "OHE(df,Date,ScheduledArrTime,ScheduledDepTime,ScheduledElapsedTime,Airline_Code,TailNum,Org_Airport_Code,Dest_Airport_Code,Distance)"
   ]
  },
  {
   "cell_type": "code",
   "execution_count": 59,
   "metadata": {},
   "outputs": [
    {
     "data": {
      "text/html": [
       "<div>\n",
       "<style scoped>\n",
       "    .dataframe tbody tr th:only-of-type {\n",
       "        vertical-align: middle;\n",
       "    }\n",
       "\n",
       "    .dataframe tbody tr th {\n",
       "        vertical-align: top;\n",
       "    }\n",
       "\n",
       "    .dataframe thead th {\n",
       "        text-align: right;\n",
       "    }\n",
       "</style>\n",
       "<table border=\"1\" class=\"dataframe\">\n",
       "  <thead>\n",
       "    <tr style=\"text-align: right;\">\n",
       "      <th></th>\n",
       "      <th>ScheduledArrTime</th>\n",
       "      <th>Distance</th>\n",
       "      <th>ScheduledDepTime</th>\n",
       "      <th>ScheduledElapsedTime</th>\n",
       "      <th>Day</th>\n",
       "      <th>DepTemperature</th>\n",
       "      <th>DepWindSpeed</th>\n",
       "      <th>DepWindDirection</th>\n",
       "      <th>DepPrecipitation</th>\n",
       "      <th>DepRain</th>\n",
       "      <th>...</th>\n",
       "      <th>DayOfWeek_5</th>\n",
       "      <th>DayOfWeek_6</th>\n",
       "      <th>DayOfWeek_7</th>\n",
       "      <th>Month_1</th>\n",
       "      <th>Month_2</th>\n",
       "      <th>Month_3</th>\n",
       "      <th>Month_4</th>\n",
       "      <th>Month_5</th>\n",
       "      <th>Month_6</th>\n",
       "      <th>DepDelay</th>\n",
       "    </tr>\n",
       "  </thead>\n",
       "  <tbody>\n",
       "    <tr>\n",
       "      <th>0</th>\n",
       "      <td>230</td>\n",
       "      <td>10000</td>\n",
       "      <td>568</td>\n",
       "      <td>28974</td>\n",
       "      <td>14</td>\n",
       "      <td>0</td>\n",
       "      <td>0</td>\n",
       "      <td>0</td>\n",
       "      <td>0</td>\n",
       "      <td>0</td>\n",
       "      <td>...</td>\n",
       "      <td>0</td>\n",
       "      <td>0</td>\n",
       "      <td>0</td>\n",
       "      <td>0</td>\n",
       "      <td>0</td>\n",
       "      <td>1</td>\n",
       "      <td>0</td>\n",
       "      <td>0</td>\n",
       "      <td>0</td>\n",
       "      <td>0</td>\n",
       "    </tr>\n",
       "  </tbody>\n",
       "</table>\n",
       "<p>1 rows × 4073 columns</p>\n",
       "</div>"
      ],
      "text/plain": [
       "   ScheduledArrTime  Distance  ScheduledDepTime  ScheduledElapsedTime  Day  \\\n",
       "0               230     10000               568                 28974   14   \n",
       "\n",
       "   DepTemperature  DepWindSpeed  DepWindDirection  DepPrecipitation  DepRain  \\\n",
       "0               0             0                 0                 0        0   \n",
       "\n",
       "   ...  DayOfWeek_5  DayOfWeek_6  DayOfWeek_7  Month_1  Month_2  Month_3  \\\n",
       "0  ...            0            0            0        0        0        1   \n",
       "\n",
       "   Month_4  Month_5  Month_6  DepDelay  \n",
       "0        0        0        0         0  \n",
       "\n",
       "[1 rows x 4073 columns]"
      ]
     },
     "execution_count": 59,
     "metadata": {},
     "output_type": "execute_result"
    }
   ],
   "source": [
    "\n",
    "df"
   ]
  },
  {
   "cell_type": "code",
   "execution_count": 60,
   "metadata": {},
   "outputs": [],
   "source": [
    "Stats = pd.read_csv(\"Stats.csv\")"
   ]
  },
  {
   "cell_type": "code",
   "execution_count": 61,
   "metadata": {},
   "outputs": [],
   "source": [
    "def Normalize(Column,Value, Type ):\n",
    "    if Type==\"Z\":\n",
    "        row = Stats[Stats['Column_Name']==Column]\n",
    "        mean = row['Mean'].iloc[0]\n",
    "        sd = row['Standard_Deviation'].iloc[0]\n",
    "        result = (Value-mean)/sd\n",
    "        \n",
    "    elif Type == \"Log\":\n",
    "        result=np.log(np.abs(Value + 0.1) )\n",
    "           \n",
    "    else:\n",
    "        row = Stats[Stats['Column_Name']==Column]\n",
    "        min = row['Min'].iloc[0]\n",
    "        max = row['Max'].iloc[0]\n",
    "        result = (Value-min)/(max-min)\n",
    "    return result"
   ]
  },
  {
   "cell_type": "code",
   "execution_count": 62,
   "metadata": {},
   "outputs": [],
   "source": [
    "Nomralize_Dict = {'ScheduledArrTime':\"Z\",'ScheduledDepTime':\"Z\",'ScheduledElapsedTime':\"Z\",'Distance':\"Log\",'DepTemperature':\"Z\",'DepWindSpeed':\"Log\",'DepWindDirection':\"Min\",'DepPrecipitation':\"Z\",\n",
    "                  'DepRain':\"Z\",'DepSnowFall':\"Log\",'ArrTemperature':\"Z\",'ArrWindSpeed':\"Log\",'ArrWindDirection':\"Min\",'ArrPrecipitation':\"Z\",'ArrRain':\"Z\",'ArrSnowFall':\"Log\",'Day':'Min'}"
   ]
  },
  {
   "cell_type": "code",
   "execution_count": 63,
   "metadata": {},
   "outputs": [
    {
     "name": "stdout",
     "output_type": "stream",
     "text": [
      "ScheduledArrTime 0    230\n",
      "Name: ScheduledArrTime, dtype: int64 Z\n",
      "ScheduledDepTime 0    568\n",
      "Name: ScheduledDepTime, dtype: int64 Z\n",
      "ScheduledElapsedTime 0    28974\n",
      "Name: ScheduledElapsedTime, dtype: int64 Z\n",
      "Distance 0    10000\n",
      "Name: Distance, dtype: int64 Log\n",
      "DepTemperature 0    0\n",
      "Name: DepTemperature, dtype: int64 Z\n",
      "DepWindSpeed 0    0\n",
      "Name: DepWindSpeed, dtype: int64 Log\n",
      "DepWindDirection 0    0\n",
      "Name: DepWindDirection, dtype: int64 Min\n",
      "DepPrecipitation 0    0\n",
      "Name: DepPrecipitation, dtype: int64 Z\n",
      "DepRain 0    0\n",
      "Name: DepRain, dtype: int64 Z\n",
      "DepSnowFall 0    0\n",
      "Name: DepSnowFall, dtype: int64 Log\n",
      "ArrTemperature 0    0\n",
      "Name: ArrTemperature, dtype: int64 Z\n",
      "ArrWindSpeed 0    0\n",
      "Name: ArrWindSpeed, dtype: int64 Log\n",
      "ArrWindDirection 0    0\n",
      "Name: ArrWindDirection, dtype: int64 Min\n",
      "ArrPrecipitation 0    0\n",
      "Name: ArrPrecipitation, dtype: int64 Z\n",
      "ArrRain 0    0\n",
      "Name: ArrRain, dtype: int64 Z\n",
      "ArrSnowFall 0    0\n",
      "Name: ArrSnowFall, dtype: int64 Log\n",
      "Day 0    14\n",
      "Name: Day, dtype: int64 Min\n"
     ]
    },
    {
     "data": {
      "text/html": [
       "<div>\n",
       "<style scoped>\n",
       "    .dataframe tbody tr th:only-of-type {\n",
       "        vertical-align: middle;\n",
       "    }\n",
       "\n",
       "    .dataframe tbody tr th {\n",
       "        vertical-align: top;\n",
       "    }\n",
       "\n",
       "    .dataframe thead th {\n",
       "        text-align: right;\n",
       "    }\n",
       "</style>\n",
       "<table border=\"1\" class=\"dataframe\">\n",
       "  <thead>\n",
       "    <tr style=\"text-align: right;\">\n",
       "      <th></th>\n",
       "      <th>ScheduledArrTime</th>\n",
       "      <th>Distance</th>\n",
       "      <th>ScheduledDepTime</th>\n",
       "      <th>ScheduledElapsedTime</th>\n",
       "      <th>Day</th>\n",
       "      <th>DepTemperature</th>\n",
       "      <th>DepWindSpeed</th>\n",
       "      <th>DepWindDirection</th>\n",
       "      <th>DepPrecipitation</th>\n",
       "      <th>DepRain</th>\n",
       "      <th>...</th>\n",
       "      <th>DayOfWeek_5</th>\n",
       "      <th>DayOfWeek_6</th>\n",
       "      <th>DayOfWeek_7</th>\n",
       "      <th>Month_1</th>\n",
       "      <th>Month_2</th>\n",
       "      <th>Month_3</th>\n",
       "      <th>Month_4</th>\n",
       "      <th>Month_5</th>\n",
       "      <th>Month_6</th>\n",
       "      <th>DepDelay</th>\n",
       "    </tr>\n",
       "  </thead>\n",
       "  <tbody>\n",
       "    <tr>\n",
       "      <th>0</th>\n",
       "      <td>-3.051809</td>\n",
       "      <td>9.21035</td>\n",
       "      <td>-2.208409</td>\n",
       "      <td>256.269924</td>\n",
       "      <td>0.433333</td>\n",
       "      <td>-1.106722</td>\n",
       "      <td>-2.302585</td>\n",
       "      <td>-0.001771</td>\n",
       "      <td>-0.216732</td>\n",
       "      <td>-0.202053</td>\n",
       "      <td>...</td>\n",
       "      <td>0</td>\n",
       "      <td>0</td>\n",
       "      <td>0</td>\n",
       "      <td>0</td>\n",
       "      <td>0</td>\n",
       "      <td>1</td>\n",
       "      <td>0</td>\n",
       "      <td>0</td>\n",
       "      <td>0</td>\n",
       "      <td>0</td>\n",
       "    </tr>\n",
       "  </tbody>\n",
       "</table>\n",
       "<p>1 rows × 4073 columns</p>\n",
       "</div>"
      ],
      "text/plain": [
       "   ScheduledArrTime  Distance  ScheduledDepTime  ScheduledElapsedTime  \\\n",
       "0         -3.051809   9.21035         -2.208409            256.269924   \n",
       "\n",
       "        Day  DepTemperature  DepWindSpeed  DepWindDirection  DepPrecipitation  \\\n",
       "0  0.433333       -1.106722     -2.302585         -0.001771         -0.216732   \n",
       "\n",
       "    DepRain  ...  DayOfWeek_5  DayOfWeek_6  DayOfWeek_7  Month_1  Month_2  \\\n",
       "0 -0.202053  ...            0            0            0        0        0   \n",
       "\n",
       "   Month_3  Month_4  Month_5  Month_6  DepDelay  \n",
       "0        1        0        0        0         0  \n",
       "\n",
       "[1 rows x 4073 columns]"
      ]
     },
     "execution_count": 63,
     "metadata": {},
     "output_type": "execute_result"
    }
   ],
   "source": [
    "for key, value in Nomralize_Dict.items():\n",
    "    print(key,df[key],value)\n",
    "    result=Normalize(key,df[key],value)\n",
    "    df[key]=result\n",
    "df"
   ]
  }
 ],
 "metadata": {
  "kernelspec": {
   "display_name": "Python 3",
   "language": "python",
   "name": "python3"
  },
  "language_info": {
   "codemirror_mode": {
    "name": "ipython",
    "version": 3
   },
   "file_extension": ".py",
   "mimetype": "text/x-python",
   "name": "python",
   "nbconvert_exporter": "python",
   "pygments_lexer": "ipython3",
   "version": "3.12.0"
  }
 },
 "nbformat": 4,
 "nbformat_minor": 2
}
